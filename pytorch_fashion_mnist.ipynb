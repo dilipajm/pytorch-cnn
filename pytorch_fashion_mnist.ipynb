{
  "nbformat": 4,
  "nbformat_minor": 0,
  "metadata": {
    "colab": {
      "name": "pytorch-fashion-mnist.ipynb",
      "version": "0.3.2",
      "provenance": [],
      "collapsed_sections": []
    },
    "kernelspec": {
      "name": "python3",
      "display_name": "Python 3"
    },
    "accelerator": "GPU"
  },
  "cells": [
    {
      "cell_type": "code",
      "metadata": {
        "id": "aK75_iqZW3ib",
        "colab_type": "code",
        "colab": {}
      },
      "source": [
        "# basic libraries\n",
        "import torch\n",
        "import torchvision\n",
        "import numpy as np\n",
        "import matplotlib.pyplot as plt\n",
        "\n",
        "%matplotlib inline\n",
        "\n",
        "# for data\n",
        "from torchvision.datasets import FashionMNIST\n",
        "from torch.utils.data import DataLoader\n",
        "from torchvision import transforms"
      ],
      "execution_count": 0,
      "outputs": []
    },
    {
      "cell_type": "markdown",
      "metadata": {
        "id": "PUHAp-dyx5pE",
        "colab_type": "text"
      },
      "source": [
        "**Device: CUDA or CPU**"
      ]
    },
    {
      "cell_type": "code",
      "metadata": {
        "id": "1JHrflcRx9jg",
        "colab_type": "code",
        "outputId": "f05b6295-a2ae-493d-9834-f45dce0a10fb",
        "colab": {
          "base_uri": "https://localhost:8080/",
          "height": 34
        }
      },
      "source": [
        "device = torch.device(\"cuda:0\" if torch.cuda.is_available() else \"cpu\")\n",
        "print('Device: ', device)"
      ],
      "execution_count": 77,
      "outputs": [
        {
          "output_type": "stream",
          "text": [
            "Device:  cuda:0\n"
          ],
          "name": "stdout"
        }
      ]
    },
    {
      "cell_type": "markdown",
      "metadata": {
        "id": "PpInc7m0cNi3",
        "colab_type": "text"
      },
      "source": [
        "**Download datasets & transform**"
      ]
    },
    {
      "cell_type": "code",
      "metadata": {
        "id": "eImQ58SpYNu7",
        "colab_type": "code",
        "outputId": "37fabf2e-a242-4829-d564-2f1778994f7d",
        "colab": {
          "base_uri": "https://localhost:8080/",
          "height": 51
        }
      },
      "source": [
        "data_transform = transforms.ToTensor()\n",
        "\n",
        "train_data = FashionMNIST('./data', train=True, download=True, transform=data_transform)\n",
        "\n",
        "test_data = FashionMNIST('./data', train=False, download=True, transform=data_transform)\n",
        "\n",
        "print('Train data images: {}'.format(len(train_data)))\n",
        "print('Test data images: {}'.format(len(test_data)))"
      ],
      "execution_count": 78,
      "outputs": [
        {
          "output_type": "stream",
          "text": [
            "Train data images: 60000\n",
            "Test data images: 10000\n"
          ],
          "name": "stdout"
        }
      ]
    },
    {
      "cell_type": "markdown",
      "metadata": {
        "id": "CBWsf0-ZcV45",
        "colab_type": "text"
      },
      "source": [
        "**Prepare data loaders & batch size**"
      ]
    },
    {
      "cell_type": "code",
      "metadata": {
        "id": "oaNlpP-vYsbz",
        "colab_type": "code",
        "colab": {}
      },
      "source": [
        "batch_size = 20\n",
        "\n",
        "train_loader = DataLoader(train_data, batch_size=batch_size, shuffle=True)\n",
        "test_loader = DataLoader(test_data, batch_size=batch_size, shuffle=True)\n",
        "\n",
        "classes = ['T-shirt/top', 'Trouser', 'Pullover', 'Dress', 'Coat', \n",
        "           'Sandal', 'Shirt', 'Sneaker', 'Bag', 'Ankle boot']"
      ],
      "execution_count": 0,
      "outputs": []
    },
    {
      "cell_type": "markdown",
      "metadata": {
        "id": "68OSAA_tcrGP",
        "colab_type": "text"
      },
      "source": [
        "**Visualize training data**"
      ]
    },
    {
      "cell_type": "code",
      "metadata": {
        "id": "9ClfmNKVcqTb",
        "colab_type": "code",
        "outputId": "98fa4dcf-9b1c-4a81-b9f9-26baed9b9a2d",
        "colab": {
          "base_uri": "https://localhost:8080/",
          "height": 288
        }
      },
      "source": [
        "# get one batch of data\n",
        "dataiter = iter(train_loader)\n",
        "images, labels = dataiter.next()\n",
        "\n",
        "images = images.numpy()\n",
        "\n",
        "fig = plt.figure(figsize=(25, 4))\n",
        "for idx in np.arange(batch_size):\n",
        "  ax = fig.add_subplot(2, batch_size/2, idx+1, xticks=[], yticks=[])\n",
        "  ax.imshow(np.squeeze(images[idx]), cmap='gray')\n",
        "  ax.set_title(classes[labels[idx]])\n",
        "  "
      ],
      "execution_count": 80,
      "outputs": [
        {
          "output_type": "display_data",
          "data": {
            "image/png": "[encoded data removed]",
            "text/plain": [
              "<Figure size 1800x288 with 20 Axes>"
            ]
          },
          "metadata": {
            "tags": []
          }
        }
      ]
    },
    {
      "cell_type": "markdown",
      "metadata": {
        "id": "AtBnLGWlsjSp",
        "colab_type": "text"
      },
      "source": [
        "**Define a network architecture**"
      ]
    },
    {
      "cell_type": "code",
      "metadata": {
        "id": "msh7_MtDjrj_",
        "colab_type": "code",
        "outputId": "021a5b61-d530-4a74-8411-1f41d5d560c5",
        "colab": {
          "base_uri": "https://localhost:8080/",
          "height": 153
        }
      },
      "source": [
        "import torch.nn as nn\n",
        "import torch.nn.functional as F\n",
        "\n",
        "class Net(nn.Module):\n",
        "  \n",
        "  def __init__(self):\n",
        "    super(Net, self).__init__()\n",
        "    \n",
        "    self.conv1 = nn.Conv2d(1, 10, 3)\n",
        "    \n",
        "    self.pool = nn.MaxPool2d(2,2)\n",
        "    \n",
        "    self.conv2 = nn.Conv2d(10, 20, 3)\n",
        "    \n",
        "    self.fc1 = nn.Linear(20*5*5, 50)\n",
        "    \n",
        "    self.fc1_drop = nn.Dropout(p=0.4)\n",
        "    \n",
        "    self.fc2 = nn.Linear(50, 10)\n",
        "    \n",
        "  def forward(self, x):\n",
        "\n",
        "    x = self.pool(F.relu(self.conv1(x)))\n",
        "    x = self.pool(F.relu(self.conv2(x)))\n",
        "    \n",
        "    # flatten\n",
        "    x = x.view(x.size(0), -1)\n",
        "    \n",
        "    x = F.relu(self.fc1(x))\n",
        "    x = self.fc1_drop(x)\n",
        "    x = self.fc2(x)\n",
        "    \n",
        "    return x\n",
        "  \n",
        "net = Net().to(device)\n",
        "print(net)"
      ],
      "execution_count": 111,
      "outputs": [
        {
          "output_type": "stream",
          "text": [
            "Net(\n",
            "  (conv1): Conv2d(1, 10, kernel_size=(3, 3), stride=(1, 1))\n",
            "  (pool): MaxPool2d(kernel_size=2, stride=2, padding=0, dilation=1, ceil_mode=False)\n",
            "  (conv2): Conv2d(10, 20, kernel_size=(3, 3), stride=(1, 1))\n",
            "  (fc1): Linear(in_features=500, out_features=50, bias=True)\n",
            "  (fc1_drop): Dropout(p=0.4)\n",
            "  (fc2): Linear(in_features=50, out_features=10, bias=True)\n",
            ")\n"
          ],
          "name": "stdout"
        }
      ]
    },
    {
      "cell_type": "markdown",
      "metadata": {
        "id": "kvdFdkQMugMX",
        "colab_type": "text"
      },
      "source": [
        "**Loss and optimizer functions**"
      ]
    },
    {
      "cell_type": "code",
      "metadata": {
        "id": "VEUUK9y2uZgh",
        "colab_type": "code",
        "colab": {}
      },
      "source": [
        "import torch.optim as optim\n",
        "\n",
        "criterion = nn.CrossEntropyLoss()\n",
        "\n",
        "optimizer = optim.SGD(net.parameters(), lr=0.001, momentum=0.9)"
      ],
      "execution_count": 0,
      "outputs": []
    },
    {
      "cell_type": "markdown",
      "metadata": {
        "id": "yCGH8qCCu36D",
        "colab_type": "text"
      },
      "source": [
        "**Calculate accuracy before training**"
      ]
    },
    {
      "cell_type": "code",
      "metadata": {
        "id": "YtYtx0kbu2Et",
        "colab_type": "code",
        "colab": {}
      },
      "source": [
        "def check_accuracy(mynet):\n",
        "  mynet.eval()\n",
        "  correct = 0\n",
        "  total = 0\n",
        "  accuracy = 0\n",
        "  \n",
        "  for images, labels in test_loader:\n",
        "\n",
        "    images = images.to(device)\n",
        "    labels = labels.to(device)\n",
        "    \n",
        "    outputs = mynet.forward(images)\n",
        "\n",
        "    _, predicted = torch.max(outputs.data, 1)\n",
        "\n",
        "    total += labels.size(0)\n",
        "    correct += (predicted == labels).sum()\n",
        "\n",
        "  accuracy = 100.0 * correct.item() / total\n",
        "  return accuracy"
      ],
      "execution_count": 0,
      "outputs": []
    },
    {
      "cell_type": "code",
      "metadata": {
        "id": "sS34MJYHzhQD",
        "colab_type": "code",
        "outputId": "b915aabb-6c99-4fe9-994c-97bb329015b8",
        "colab": {
          "base_uri": "https://localhost:8080/",
          "height": 34
        }
      },
      "source": [
        "check_accuracy(net)"
      ],
      "execution_count": 114,
      "outputs": [
        {
          "output_type": "execute_result",
          "data": {
            "text/plain": [
              "9.87"
            ]
          },
          "metadata": {
            "tags": []
          },
          "execution_count": 114
        }
      ]
    },
    {
      "cell_type": "markdown",
      "metadata": {
        "id": "_mH8IX1ZwDNU",
        "colab_type": "text"
      },
      "source": [
        "**Train the network**\n",
        "\n",
        "1. Zero's the gradients to prepare for a forward pass\n",
        "2. Passes the input through the network (forward pass)\n",
        "3. Computes the loss (how far is the predicted classes are from the correct labels)\n",
        "4. Propagates gradients back into the network’s parameters (backward pass)\n",
        "5. Updates the weights (parameter update)\n",
        "6. Prints out the calculated loss"
      ]
    },
    {
      "cell_type": "code",
      "metadata": {
        "id": "UK5OqGv0v_Im",
        "colab_type": "code",
        "colab": {}
      },
      "source": [
        "import time\n",
        "\n",
        "def train(n_epochs):\n",
        "\n",
        "  #net.train()\n",
        "  \n",
        "  loss_over_time = []\n",
        "  \n",
        "  for epoch in range(n_epochs):\n",
        "    start_time = time.time()\n",
        "    \n",
        "    running_loss = 0.0\n",
        "    \n",
        "    for batch_i, data in enumerate(train_loader):\n",
        "      \n",
        "      inputs, labels = data\n",
        "      \n",
        "      inputs = inputs.to(device)\n",
        "      labels = labels.to(device)\n",
        "      \n",
        "      optimizer.zero_grad()\n",
        "      \n",
        "      outputs = net(inputs)\n",
        "      \n",
        "      loss = criterion(outputs, labels)\n",
        "      \n",
        "      loss.backward()\n",
        "      \n",
        "      optimizer.step()\n",
        "      \n",
        "      running_loss += loss.item()\n",
        "      \n",
        "      if batch_i % 1000 == 999:\n",
        "        avg_loss = running_loss/1000\n",
        "        loss_over_time.append(avg_loss)\n",
        "        print('Epoch: {}, Batch: {}, Avg Loss: {}'.format(epoch, batch_i, avg_loss))\n",
        "        running_loss = 0.0\n",
        "    print('\\n==============\\nEpoch: {}, Accuracy: {} -- Time taken: {}\\n==============\\n'.format(epoch, check_accuracy(net), (time.time() - start_time)))\n",
        "    \n",
        "\n",
        "  print('Finished training')\n",
        "  \n",
        "  # Plot loss function\n",
        "  plt.plot(loss_over_time)\n",
        "  plt.xlabel('1000\\'s of batches')\n",
        "  plt.ylabel('loss')\n",
        "  plt.ylim(0, 2.5) # consistent scale\n",
        "  plt.show()\n",
        "  \n",
        "  return loss_over_time"
      ],
      "execution_count": 0,
      "outputs": []
    },
    {
      "cell_type": "code",
      "metadata": {
        "id": "tLYIfXsGxa1R",
        "colab_type": "code",
        "outputId": "dbc0c964-b613-4bf2-9f48-2ea4921247cd",
        "colab": {
          "base_uri": "https://localhost:8080/",
          "height": 1660
        }
      },
      "source": [
        "training_loss = train(10)"
      ],
      "execution_count": 116,
      "outputs": [
        {
          "output_type": "stream",
          "text": [
            "Epoch: 0, Batch: 999, Avg Loss: 1.593055670440197\n",
            "Epoch: 0, Batch: 1999, Avg Loss: 0.8127242347598076\n",
            "Epoch: 0, Batch: 2999, Avg Loss: 0.7120248521417379\n",
            "\n",
            "==============\n",
            "Epoch: 0, Accuracy: 74.44 -- Time taken: 11.27447247505188\n",
            "==============\n",
            "\n",
            "Epoch: 1, Batch: 999, Avg Loss: 0.623988684207201\n",
            "Epoch: 1, Batch: 1999, Avg Loss: 0.5836579077541828\n",
            "Epoch: 1, Batch: 2999, Avg Loss: 0.5335725409388542\n",
            "\n",
            "==============\n",
            "Epoch: 1, Accuracy: 79.55 -- Time taken: 11.258339643478394\n",
            "==============\n",
            "\n",
            "Epoch: 2, Batch: 999, Avg Loss: 0.5075214056745172\n",
            "Epoch: 2, Batch: 1999, Avg Loss: 0.4924737182110548\n",
            "Epoch: 2, Batch: 2999, Avg Loss: 0.47092015286535027\n",
            "\n",
            "==============\n",
            "Epoch: 2, Accuracy: 81.61 -- Time taken: 11.206984519958496\n",
            "==============\n",
            "\n",
            "Epoch: 3, Batch: 999, Avg Loss: 0.44488633931428195\n",
            "Epoch: 3, Batch: 1999, Avg Loss: 0.43723962269723415\n",
            "Epoch: 3, Batch: 2999, Avg Loss: 0.42274259513244034\n",
            "\n",
            "==============\n",
            "Epoch: 3, Accuracy: 83.8 -- Time taken: 11.25380539894104\n",
            "==============\n",
            "\n",
            "Epoch: 4, Batch: 999, Avg Loss: 0.41143379304558036\n",
            "Epoch: 4, Batch: 1999, Avg Loss: 0.3949633652791381\n",
            "Epoch: 4, Batch: 2999, Avg Loss: 0.3946703788489103\n",
            "\n",
            "==============\n",
            "Epoch: 4, Accuracy: 85.29 -- Time taken: 11.23122501373291\n",
            "==============\n",
            "\n",
            "Epoch: 5, Batch: 999, Avg Loss: 0.3788730107396841\n",
            "Epoch: 5, Batch: 1999, Avg Loss: 0.37983161355182526\n",
            "Epoch: 5, Batch: 2999, Avg Loss: 0.37497518995776774\n",
            "\n",
            "==============\n",
            "Epoch: 5, Accuracy: 84.97 -- Time taken: 11.222264528274536\n",
            "==============\n",
            "\n",
            "Epoch: 6, Batch: 999, Avg Loss: 0.3619292077086866\n",
            "Epoch: 6, Batch: 1999, Avg Loss: 0.35097509041801095\n",
            "Epoch: 6, Batch: 2999, Avg Loss: 0.3627288710717112\n",
            "\n",
            "==============\n",
            "Epoch: 6, Accuracy: 86.49 -- Time taken: 11.254896402359009\n",
            "==============\n",
            "\n",
            "Epoch: 7, Batch: 999, Avg Loss: 0.35225074376165866\n",
            "Epoch: 7, Batch: 1999, Avg Loss: 0.3422386176250875\n",
            "Epoch: 7, Batch: 2999, Avg Loss: 0.3382385400235653\n",
            "\n",
            "==============\n",
            "Epoch: 7, Accuracy: 86.05 -- Time taken: 11.081733465194702\n",
            "==============\n",
            "\n",
            "Epoch: 8, Batch: 999, Avg Loss: 0.334173500072211\n",
            "Epoch: 8, Batch: 1999, Avg Loss: 0.32798808124661444\n",
            "Epoch: 8, Batch: 2999, Avg Loss: 0.33151790412142873\n",
            "\n",
            "==============\n",
            "Epoch: 8, Accuracy: 86.77 -- Time taken: 11.1699697971344\n",
            "==============\n",
            "\n",
            "Epoch: 9, Batch: 999, Avg Loss: 0.3285377841740847\n",
            "Epoch: 9, Batch: 1999, Avg Loss: 0.32467824340239165\n",
            "Epoch: 9, Batch: 2999, Avg Loss: 0.31591650646738706\n",
            "\n",
            "==============\n",
            "Epoch: 9, Accuracy: 87.51 -- Time taken: 11.080321550369263\n",
            "==============\n",
            "\n",
            "Finished training\n"
          ],
          "name": "stdout"
        },
        {
          "output_type": "display_data",
          "data": {
            "image/png": "[encoded data removed]",
            "text/plain": [
              "<Figure size 432x288 with 1 Axes>"
            ]
          },
          "metadata": {
            "tags": []
          }
        }
      ]
    },
    {
      "cell_type": "markdown",
      "metadata": {
        "id": "D9dHwBDzT7R8",
        "colab_type": "text"
      },
      "source": [
        "**Saving the model**"
      ]
    },
    {
      "cell_type": "code",
      "metadata": {
        "id": "Qk8cf30AGR1A",
        "colab_type": "code",
        "colab": {}
      },
      "source": [
        "model_dir = 'saved_models/'\n",
        "model_name = 'fashion_net_ex.pt'\n",
        "\n",
        "torch.save(net.state_dict(), model_name)"
      ],
      "execution_count": 0,
      "outputs": []
    },
    {
      "cell_type": "markdown",
      "metadata": {
        "id": "q0WRlbpoUh5Z",
        "colab_type": "text"
      },
      "source": [
        "**Load saved model and predict**"
      ]
    },
    {
      "cell_type": "code",
      "metadata": {
        "id": "q0XPJFrzUMxa",
        "colab_type": "code",
        "colab": {
          "base_uri": "https://localhost:8080/",
          "height": 153
        },
        "outputId": "abbb7e25-a731-47c4-8163-524f9bc9417e"
      },
      "source": [
        "loaded_model = Net()\n",
        "loaded_model = loaded_model.to(device)\n",
        "loaded_model.load_state_dict(torch.load(model_name))\n",
        "\n",
        "loaded_model.eval()"
      ],
      "execution_count": 118,
      "outputs": [
        {
          "output_type": "execute_result",
          "data": {
            "text/plain": [
              "Net(\n",
              "  (conv1): Conv2d(1, 10, kernel_size=(3, 3), stride=(1, 1))\n",
              "  (pool): MaxPool2d(kernel_size=2, stride=2, padding=0, dilation=1, ceil_mode=False)\n",
              "  (conv2): Conv2d(10, 20, kernel_size=(3, 3), stride=(1, 1))\n",
              "  (fc1): Linear(in_features=500, out_features=50, bias=True)\n",
              "  (fc1_drop): Dropout(p=0.4)\n",
              "  (fc2): Linear(in_features=50, out_features=10, bias=True)\n",
              ")"
            ]
          },
          "metadata": {
            "tags": []
          },
          "execution_count": 118
        }
      ]
    },
    {
      "cell_type": "code",
      "metadata": {
        "id": "pp5gbMqyUr7K",
        "colab_type": "code",
        "colab": {
          "base_uri": "https://localhost:8080/",
          "height": 34
        },
        "outputId": "b4b1acd4-c970-4aa4-feaf-6bab9f125f1b"
      },
      "source": [
        "check_accuracy(loaded_model)"
      ],
      "execution_count": 119,
      "outputs": [
        {
          "output_type": "execute_result",
          "data": {
            "text/plain": [
              "87.51"
            ]
          },
          "metadata": {
            "tags": []
          },
          "execution_count": 119
        }
      ]
    },
    {
      "cell_type": "code",
      "metadata": {
        "id": "Yu0EsL2gUw_Q",
        "colab_type": "code",
        "colab": {}
      },
      "source": [
        ""
      ],
      "execution_count": 0,
      "outputs": []
    }
  ]
}