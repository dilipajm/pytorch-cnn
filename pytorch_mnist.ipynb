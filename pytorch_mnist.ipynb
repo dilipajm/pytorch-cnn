{
  "nbformat": 4,
  "nbformat_minor": 0,
  "metadata": {
    "colab": {
      "name": "pytorch-tutorial.ipynb",
      "version": "0.3.2",
      "provenance": [],
      "collapsed_sections": []
    },
    "kernelspec": {
      "name": "python3",
      "display_name": "Python 3"
    },
    "accelerator": "GPU"
  },
  "cells": [
    {
      "cell_type": "markdown",
      "metadata": {
        "id": "6AaCGj3aYaq9",
        "colab_type": "text"
      },
      "source": [
        "**Import modules**"
      ]
    },
    {
      "cell_type": "code",
      "metadata": {
        "id": "S_uZ7b-8YPpT",
        "colab_type": "code",
        "colab": {}
      },
      "source": [
        "import numpy as np\n",
        "import torch\n",
        "from torch import nn, optim\n",
        "from torchvision import datasets, transforms\n",
        "import torch.nn.functional as F\n",
        "import torchvision.transforms.functional as TF\n",
        "import matplotlib\n",
        "matplotlib.use('Agg')\n",
        "import matplotlib.pyplot as plt\n",
        "import time"
      ],
      "execution_count": 0,
      "outputs": []
    },
    {
      "cell_type": "markdown",
      "metadata": {
        "id": "p-0KC82L_60y",
        "colab_type": "text"
      },
      "source": [
        "**Check for CUDA**"
      ]
    },
    {
      "cell_type": "code",
      "metadata": {
        "id": "fjiLDPAa_5co",
        "colab_type": "code",
        "colab": {
          "base_uri": "https://localhost:8080/",
          "height": 34
        },
        "outputId": "e3087ee2-80cd-4aab-d0c5-0f1d3a298c05"
      },
      "source": [
        "use_cuda = True # True if you want to use CUDA otherwise False\n",
        "\n",
        "cuda_available = False\n",
        "device = torch.cuda.get_device_name(0)\n",
        "\n",
        "if use_cuda and torch.cuda.is_available():\n",
        "  cuda_available = True\n",
        "  print('CUDA is available')\n",
        "else:\n",
        "  print('CUDA not available')"
      ],
      "execution_count": 95,
      "outputs": [
        {
          "output_type": "stream",
          "text": [
            "CUDA is available\n"
          ],
          "name": "stdout"
        }
      ]
    },
    {
      "cell_type": "markdown",
      "metadata": {
        "id": "rhsP_GatatAE",
        "colab_type": "text"
      },
      "source": [
        "**Download data & transform**"
      ]
    },
    {
      "cell_type": "code",
      "metadata": {
        "id": "6-393gD2Y7sU",
        "colab_type": "code",
        "colab": {}
      },
      "source": [
        "transform = transforms.Compose([transforms.ToTensor(),transforms.Normalize((0.5,), (0.5,))])\n",
        "\n",
        "trainset = datasets.MNIST('MNIST_data/',  download=True, train= True, transform=transform)\n",
        "trainloader = torch.utils.data.DataLoader(trainset, batch_size=64, shuffle=True)\n",
        "\n",
        "testset = datasets.MNIST('MNIST_data/',  download=True, train= False, transform=transform)\n",
        "testloader = torch.utils.data.DataLoader(testset, batch_size=64, shuffle=True)\n",
        "\n",
        "dataiter = iter(trainloader)\n",
        "\n",
        "images, labels = dataiter.next()"
      ],
      "execution_count": 0,
      "outputs": []
    },
    {
      "cell_type": "markdown",
      "metadata": {
        "id": "1HiOZ8aQa0Df",
        "colab_type": "text"
      },
      "source": [
        "**Define Neural Network**"
      ]
    },
    {
      "cell_type": "code",
      "metadata": {
        "id": "gER4TLgMbwWQ",
        "colab_type": "code",
        "colab": {
          "base_uri": "https://localhost:8080/",
          "height": 204
        },
        "outputId": "9808abae-72b7-433b-8cd2-2ecaa7c95169"
      },
      "source": [
        "input_size = 784\n",
        "hidden_size = [400, 200, 100]\n",
        "output_size = 10\n",
        "\n",
        "model = nn.Sequential(nn.Linear(input_size, hidden_size[0]),\n",
        "                     nn.ReLU(),\n",
        "                     nn.Linear(hidden_size[0], hidden_size[1]),\n",
        "                     nn.ReLU(),\n",
        "                     nn.Linear(hidden_size[1], hidden_size[2]),\n",
        "                     nn.ReLU(),\n",
        "                     nn.Linear(hidden_size[2], output_size),\n",
        "                     nn.Softmax(dim=1))\n",
        "\n",
        "print(model)\n",
        "\n",
        "if cuda_available:\n",
        "  model = model.cuda()\n",
        "  print('model is cuda')"
      ],
      "execution_count": 97,
      "outputs": [
        {
          "output_type": "stream",
          "text": [
            "Sequential(\n",
            "  (0): Linear(in_features=784, out_features=400, bias=True)\n",
            "  (1): ReLU()\n",
            "  (2): Linear(in_features=400, out_features=200, bias=True)\n",
            "  (3): ReLU()\n",
            "  (4): Linear(in_features=200, out_features=100, bias=True)\n",
            "  (5): ReLU()\n",
            "  (6): Linear(in_features=100, out_features=10, bias=True)\n",
            "  (7): Softmax()\n",
            ")\n",
            "model is cuda\n"
          ],
          "name": "stdout"
        }
      ]
    },
    {
      "cell_type": "markdown",
      "metadata": {
        "id": "ZC7XoVSha2KO",
        "colab_type": "text"
      },
      "source": [
        "**Training Neural Network**\n",
        "\n",
        "\n",
        "1.   Define loss criteria\n",
        "2.   Define optimizer\n",
        "3.   Forward step\n",
        "4.   Calculate loss\n",
        "5.   Calculate new weights using optimizer\n",
        "6.   Backwardprop\n",
        "7.   Step to update weights\n",
        "\n"
      ]
    },
    {
      "cell_type": "code",
      "metadata": {
        "id": "KI0KKQxVcqm0",
        "colab_type": "code",
        "colab": {}
      },
      "source": [
        "criteria = nn.CrossEntropyLoss()\n",
        "optimizer = optim.SGD(model.parameters(), lr=0.01)"
      ],
      "execution_count": 0,
      "outputs": []
    },
    {
      "cell_type": "code",
      "metadata": {
        "id": "ZD2vvYS4mj37",
        "colab_type": "code",
        "colab": {
          "base_uri": "https://localhost:8080/",
          "height": 493
        },
        "outputId": "15011eef-823a-426b-cfc7-44433f3eac13"
      },
      "source": [
        "epochs = 3\n",
        "print_every = 400\n",
        "steps = 0\n",
        "\n",
        "for e in range(epochs):\n",
        "  running_loss = 0\n",
        "  start_time = time.time()\n",
        "  \n",
        "  for images, labels in trainloader:\n",
        "    \n",
        "    if cuda_available:\n",
        "      images = images.cuda()\n",
        "      labels = labels.cuda()\n",
        "          \n",
        "    images.resize_(images.shape[0], 784)\n",
        "    \n",
        "    optimizer.zero_grad()\n",
        "    \n",
        "    steps += 1\n",
        "\n",
        "    output = model.forward(images)\n",
        "    loss = criteria(output, labels)\n",
        "    loss.backward()\n",
        "    optimizer.step()\n",
        "    \n",
        "    running_loss += loss.item()\n",
        "    \n",
        "    if steps % print_every == 0:\n",
        "      print(\"steps: {} - loss: {}\".format(steps, loss))\n",
        "  \n",
        "  end_time = time.time()\n",
        "  print(\"\\n===============\\n\")\n",
        "  print(\"epoch: {} - loss: {} - took: {}\".format(e,running_loss/print_every, (end_time - start_time)))\n",
        "  print(\"\\n===============\\n\")\n",
        "    "
      ],
      "execution_count": 113,
      "outputs": [
        {
          "output_type": "stream",
          "text": [
            "steps: 400 - loss: 1.67527437210083\n",
            "steps: 800 - loss: 1.769188404083252\n",
            "\n",
            "===============\n",
            "\n",
            "epoch: 0 - loss: 3.9463603854179383 - took: 13.626747608184814\n",
            "\n",
            "===============\n",
            "\n",
            "steps: 1200 - loss: 1.730025053024292\n",
            "steps: 1600 - loss: 1.686057448387146\n",
            "\n",
            "===============\n",
            "\n",
            "epoch: 1 - loss: 3.8980573853850364 - took: 13.877206802368164\n",
            "\n",
            "===============\n",
            "\n",
            "steps: 2000 - loss: 1.6500204801559448\n",
            "steps: 2400 - loss: 1.615277886390686\n",
            "steps: 2800 - loss: 1.5766783952713013\n",
            "\n",
            "===============\n",
            "\n",
            "epoch: 2 - loss: 3.869787351191044 - took: 13.95775580406189\n",
            "\n",
            "===============\n",
            "\n"
          ],
          "name": "stdout"
        }
      ]
    },
    {
      "cell_type": "markdown",
      "metadata": {
        "id": "WUQcbIA7_U6l",
        "colab_type": "text"
      },
      "source": [
        "**Test model prediction**"
      ]
    },
    {
      "cell_type": "code",
      "metadata": {
        "id": "7OB0aYdNDIz2",
        "colab_type": "code",
        "colab": {}
      },
      "source": [
        "def predict(image):\n",
        "  img = image.view(1, 784)\n",
        "\n",
        "  logits = model.forward(img)\n",
        "  ps = F.softmax(logits, dim=1)\n",
        "  print('Prediction: {}'.format(ps.argmax()))\n",
        "\n",
        "  a = TF.to_pil_image(image.cpu())\n",
        "  plt.imshow(a)"
      ],
      "execution_count": 0,
      "outputs": []
    },
    {
      "cell_type": "code",
      "metadata": {
        "id": "MFUjU4r-sTsJ",
        "colab_type": "code",
        "colab": {
          "base_uri": "https://localhost:8080/",
          "height": 286
        },
        "outputId": "a78b1481-ad01-44b2-86cc-acff0c4ce997"
      },
      "source": [
        "images, labels = next(iter(testloader))\n",
        "if cuda_available:\n",
        "  images = images.cuda()\n",
        "  labels = labels.cuda()\n",
        "      \n",
        "index = 8\n",
        "\n",
        "predict(images[index])\n"
      ],
      "execution_count": 121,
      "outputs": [
        {
          "output_type": "stream",
          "text": [
            "Prediction: 0\n"
          ],
          "name": "stdout"
        },
        {
          "output_type": "display_data",
          "data": {
            "image/png": "[encoded data removed]",
            "text/plain": [
              "<Figure size 432x288 with 1 Axes>"
            ]
          },
          "metadata": {
            "tags": []
          }
        }
      ]
    },
    {
      "cell_type": "code",
      "metadata": {
        "id": "_mLlOTTXG06K",
        "colab_type": "code",
        "colab": {}
      },
      "source": [
        ""
      ],
      "execution_count": 0,
      "outputs": []
    }
  ]
}